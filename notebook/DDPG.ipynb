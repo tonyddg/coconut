{
 "cells": [
  {
   "cell_type": "markdown",
   "metadata": {},
   "source": [
    "# DDPG 与 TD3 算法\n",
    "* DDPG 参考自 <https://hrl.boyuai.com/chapter/2/ddpg%E7%AE%97%E6%B3%95>\n",
    "* TD3 参考自 <https://blog.csdn.net/weixin_45492196/article/details/107866309>\n",
    "\n",
    "## 算法实现注意\n",
    "* 模型\n",
    "    * 激活函数 `nn.Tanh()` 保证输出为 $[-1, 1]$, 便于使用映射到有界的动作空间\n",
    "    * 函数 `torch.randn()` 生成满足正态分布的噪声, 加在输出的动作上\n",
    "* 训练\n",
    "    * 更新参数时, 通过 `torch.mean()` 将各个 batch 的值合并为单个值 (更新参数只能对标量求导)\n",
    "    * 如果梯度上升, 则求导变量要乘上 -1, 更新参数时, 计算出待求导标量直接进行优化即可, 不一定需要损失函数\n",
    "\n",
    "## 特点记录\n"
   ]
  },
  {
   "cell_type": "code",
   "execution_count": 1,
   "metadata": {},
   "outputs": [],
   "source": [
    "import os\n",
    "import sys\n",
    "from ipynb_utility import get_file, set_seed\n",
    "sys.path.insert(0, os.path.abspath(os.path.join(os.path.dirname(get_file()), '..')))\n",
    "\n",
    "seed = 0\n",
    "set_seed(seed)\n",
    "\n",
    "import gymnasium as gym\n",
    "\n",
    "from src.RL.DDPG import DDPG, TD3, HyperParam\n",
    "from src.RL.utility.train_rl import RL_Teacher"
   ]
  },
  {
   "cell_type": "code",
   "execution_count": 2,
   "metadata": {},
   "outputs": [
    {
     "name": "stderr",
     "output_type": "stream",
     "text": [
      "d:\\miniconda3\\envs\\playground\\Lib\\site-packages\\gymnasium\\wrappers\\rendering.py:283: UserWarning: \u001b[33mWARN: Overwriting existing videos at d:\\code\\python\\coconut\\notebook\\train_vedio folder (try specifying a different `video_folder` for the `RecordVideo` wrapper if this is not desired)\u001b[0m\n",
      "  logger.warn(\n",
      "100%|██████████| 300/300 [08:40<00:00,  1.73s/it]\n",
      "d:\\miniconda3\\envs\\playground\\Lib\\site-packages\\gymnasium\\wrappers\\rendering.py:283: UserWarning: \u001b[33mWARN: Overwriting existing videos at d:\\code\\python\\coconut\\notebook\\test_vedio folder (try specifying a different `video_folder` for the `RecordVideo` wrapper if this is not desired)\u001b[0m\n",
      "  logger.warn(\n",
      "100%|██████████| 10/10 [00:07<00:00,  1.31it/s]\n"
     ]
    },
    {
     "name": "stdout",
     "output_type": "stream",
     "text": [
      "Pendulum-v1_DDPG:  -151.20351718065132\n"
     ]
    }
   ],
   "source": [
    "env = gym.make(\"Pendulum-v1\", render_mode = \"rgb_array\")\n",
    "\n",
    "model = DDPG(HyperParam(\n",
    "    hidden_dim = 64,\n",
    "    lr_critic = 5e-3,\n",
    "    lr_actor = 1e-3\n",
    "))\n",
    "\n",
    "teacher = RL_Teacher(model, \"Pendulum-v1_DDPG\", f\"seed_{seed}\", id = \"Pendulum-v1\", render_mode = \"rgb_array\")\n",
    "teacher.train(episode = 300)\n",
    "print(\"Pendulum-v1_DDPG: \", teacher.test())"
   ]
  },
  {
   "cell_type": "markdown",
   "metadata": {},
   "source": [
    "# DDPG 算法效果\n",
    "测试环境 `gymnasium Pendulum-v1`\n",
    "\n",
    "## 学习曲线\n",
    "\n",
    "![](../res/Pendulum-v1_DDPG.png)\n",
    "\n",
    "## 示例视频\n",
    "\n",
    "<video controls src=\"../res/Pendulum-v1_DDPG.mp4\">animation</video>\n"
   ]
  },
  {
   "cell_type": "code",
   "execution_count": 3,
   "metadata": {},
   "outputs": [
    {
     "name": "stderr",
     "output_type": "stream",
     "text": [
      "d:\\miniconda3\\envs\\playground\\Lib\\site-packages\\gymnasium\\wrappers\\rendering.py:283: UserWarning: \u001b[33mWARN: Overwriting existing videos at d:\\code\\python\\coconut\\notebook\\train_vedio folder (try specifying a different `video_folder` for the `RecordVideo` wrapper if this is not desired)\u001b[0m\n",
      "  logger.warn(\n",
      "100%|██████████| 300/300 [08:31<00:00,  1.71s/it]\n",
      "100%|██████████| 10/10 [00:06<00:00,  1.46it/s]\n"
     ]
    },
    {
     "name": "stdout",
     "output_type": "stream",
     "text": [
      "Pendulum-v1_TD3:  -129.83041391454074\n"
     ]
    }
   ],
   "source": [
    "env = gym.make(\"Pendulum-v1\", render_mode = \"rgb_array\")\n",
    "\n",
    "# best\n",
    "model = TD3(HyperParam(\n",
    "    hidden_dim = 64,\n",
    "    lr_critic = 5e-3,\n",
    "    lr_actor = 2e-3,\n",
    "    tau = 0.01,\n",
    "    actor_update_period = 10\n",
    "))\n",
    "\n",
    "teacher = RL_Teacher(model, \"Pendulum-v1_TD3\", f\"seed_{seed}\", id = \"Pendulum-v1\", render_mode = \"rgb_array\")\n",
    "teacher.train(episode = 300)\n",
    "print(\"Pendulum-v1_TD3: \", teacher.test())"
   ]
  },
  {
   "cell_type": "markdown",
   "metadata": {},
   "source": [
    "# TD3 算法效果\n",
    "测试环境 `gymnasium Pendulum-v1`\n",
    "\n",
    "## 学习曲线\n",
    "\n",
    "![](../res/Pendulum-v1_TD3.png)\n",
    "\n",
    "## 示例视频\n",
    "\n",
    "<video controls src=\"../res/Pendulum-v1_TD3.mp4\">animation</video>\n"
   ]
  },
  {
   "cell_type": "code",
   "execution_count": 2,
   "metadata": {},
   "outputs": [
    {
     "name": "stderr",
     "output_type": "stream",
     "text": [
      "d:\\miniconda3\\envs\\playground\\Lib\\site-packages\\tqdm\\auto.py:21: TqdmWarning: IProgress not found. Please update jupyter and ipywidgets. See https://ipywidgets.readthedocs.io/en/stable/user_install.html\n",
      "  from .autonotebook import tqdm as notebook_tqdm\n",
      "[I 2024-10-21 14:30:07,614] A new study created in RDB with name: Pendulum-v1_DDPG\n"
     ]
    },
    {
     "name": "stdout",
     "output_type": "stream",
     "text": [
      "A new study created in RDB with name: Pendulum-v1_DDPG\n"
     ]
    },
    {
     "name": "stderr",
     "output_type": "stream",
     "text": [
      "100%|██████████| 300/300 [09:48<00:00,  1.96s/it]\n",
      "100%|██████████| 10/10 [00:03<00:00,  3.16it/s]\n",
      "[I 2024-10-21 14:40:01,631] Trial 0 finished with value: -892.3437244091112 and parameters: {'lr_critic': 0.0005646471848238721, 'lr_actor': 0.000981886646040247}. Best is trial 0 with value: -892.3437244091112.\n"
     ]
    },
    {
     "name": "stdout",
     "output_type": "stream",
     "text": [
      "Trial 0 finished with value: -892.3437244091112 and parameters: {'lr_critic': 0.0005646471848238721, 'lr_actor': 0.000981886646040247}. Best is trial 0 with value: -892.3437244091112.\n"
     ]
    },
    {
     "name": "stderr",
     "output_type": "stream",
     "text": [
      "100%|██████████| 300/300 [06:56<00:00,  1.39s/it]\n",
      "d:\\miniconda3\\envs\\playground\\Lib\\site-packages\\gymnasium\\wrappers\\rendering.py:283: UserWarning: \u001b[33mWARN: Overwriting existing videos at d:\\code\\python\\coconut\\notebook\\test_vedio\\Pendulum-v1_DDPG_param_search folder (try specifying a different `video_folder` for the `RecordVideo` wrapper if this is not desired)\u001b[0m\n",
      "  logger.warn(\n",
      "100%|██████████| 10/10 [00:02<00:00,  3.41it/s]\n",
      "[I 2024-10-21 14:47:01,684] Trial 1 finished with value: -691.056564706235 and parameters: {'lr_critic': 0.027559678541426973, 'lr_actor': 0.005273439249997273}. Best is trial 1 with value: -691.056564706235.\n"
     ]
    },
    {
     "name": "stdout",
     "output_type": "stream",
     "text": [
      "Trial 1 finished with value: -691.056564706235 and parameters: {'lr_critic': 0.027559678541426973, 'lr_actor': 0.005273439249997273}. Best is trial 1 with value: -691.056564706235.\n"
     ]
    },
    {
     "name": "stderr",
     "output_type": "stream",
     "text": [
      "100%|██████████| 300/300 [08:39<00:00,  1.73s/it]\n",
      "100%|██████████| 10/10 [00:02<00:00,  3.79it/s]\n",
      "[I 2024-10-21 14:55:44,539] Trial 2 finished with value: -476.5666909139637 and parameters: {'lr_critic': 0.004389860221476969, 'lr_actor': 0.007758544640974687}. Best is trial 2 with value: -476.5666909139637.\n"
     ]
    },
    {
     "name": "stdout",
     "output_type": "stream",
     "text": [
      "Trial 2 finished with value: -476.5666909139637 and parameters: {'lr_critic': 0.004389860221476969, 'lr_actor': 0.007758544640974687}. Best is trial 2 with value: -476.5666909139637.\n"
     ]
    },
    {
     "name": "stderr",
     "output_type": "stream",
     "text": [
      "100%|██████████| 300/300 [08:33<00:00,  1.71s/it]\n",
      "100%|██████████| 10/10 [00:02<00:00,  3.73it/s]\n",
      "[I 2024-10-21 15:04:20,803] Trial 3 finished with value: -1106.1020237719738 and parameters: {'lr_critic': 0.029325503880990752, 'lr_actor': 0.0002306547983913713}. Best is trial 2 with value: -476.5666909139637.\n"
     ]
    },
    {
     "name": "stdout",
     "output_type": "stream",
     "text": [
      "Trial 3 finished with value: -1106.1020237719738 and parameters: {'lr_critic': 0.029325503880990752, 'lr_actor': 0.0002306547983913713}. Best is trial 2 with value: -476.5666909139637.\n"
     ]
    },
    {
     "name": "stderr",
     "output_type": "stream",
     "text": [
      "100%|██████████| 300/300 [08:38<00:00,  1.73s/it]\n",
      "100%|██████████| 10/10 [00:02<00:00,  3.68it/s]\n",
      "[I 2024-10-21 15:13:01,820] Trial 4 finished with value: -706.1215239515487 and parameters: {'lr_critic': 0.0009719841948298609, 'lr_actor': 0.00120108307219138}. Best is trial 2 with value: -476.5666909139637.\n"
     ]
    },
    {
     "name": "stdout",
     "output_type": "stream",
     "text": [
      "Trial 4 finished with value: -706.1215239515487 and parameters: {'lr_critic': 0.0009719841948298609, 'lr_actor': 0.00120108307219138}. Best is trial 2 with value: -476.5666909139637.\n"
     ]
    },
    {
     "name": "stderr",
     "output_type": "stream",
     "text": [
      "100%|██████████| 300/300 [08:35<00:00,  1.72s/it]\n",
      "100%|██████████| 10/10 [00:02<00:00,  3.75it/s]\n",
      "[I 2024-10-21 15:21:39,967] Trial 5 finished with value: -199.29209354795583 and parameters: {'lr_critic': 0.00249714679845251, 'lr_actor': 0.0008659353103577053}. Best is trial 5 with value: -199.29209354795583.\n"
     ]
    },
    {
     "name": "stdout",
     "output_type": "stream",
     "text": [
      "Trial 5 finished with value: -199.29209354795583 and parameters: {'lr_critic': 0.00249714679845251, 'lr_actor': 0.0008659353103577053}. Best is trial 5 with value: -199.29209354795583.\n"
     ]
    },
    {
     "name": "stderr",
     "output_type": "stream",
     "text": [
      "100%|██████████| 300/300 [08:37<00:00,  1.73s/it]\n",
      "100%|██████████| 10/10 [00:02<00:00,  3.64it/s]\n",
      "[I 2024-10-21 15:30:20,590] Trial 6 finished with value: -537.0282210996745 and parameters: {'lr_critic': 0.03673968666591285, 'lr_actor': 0.0008311868719512627}. Best is trial 5 with value: -199.29209354795583.\n"
     ]
    },
    {
     "name": "stdout",
     "output_type": "stream",
     "text": [
      "Trial 6 finished with value: -537.0282210996745 and parameters: {'lr_critic': 0.03673968666591285, 'lr_actor': 0.0008311868719512627}. Best is trial 5 with value: -199.29209354795583.\n"
     ]
    },
    {
     "name": "stderr",
     "output_type": "stream",
     "text": [
      "100%|██████████| 300/300 [08:32<00:00,  1.71s/it]\n",
      "100%|██████████| 10/10 [00:02<00:00,  3.69it/s]\n",
      "[I 2024-10-21 15:38:55,568] Trial 7 finished with value: -503.12321230499515 and parameters: {'lr_critic': 0.018058785870118606, 'lr_actor': 0.0013779613967998122}. Best is trial 5 with value: -199.29209354795583.\n"
     ]
    },
    {
     "name": "stdout",
     "output_type": "stream",
     "text": [
      "Trial 7 finished with value: -503.12321230499515 and parameters: {'lr_critic': 0.018058785870118606, 'lr_actor': 0.0013779613967998122}. Best is trial 5 with value: -199.29209354795583.\n"
     ]
    },
    {
     "name": "stderr",
     "output_type": "stream",
     "text": [
      "100%|██████████| 300/300 [08:30<00:00,  1.70s/it]\n",
      "100%|██████████| 10/10 [00:02<00:00,  3.80it/s]\n",
      "[I 2024-10-21 15:47:29,204] Trial 8 finished with value: -1317.7013675657226 and parameters: {'lr_critic': 0.0008998671627604154, 'lr_actor': 0.0021481401823776917}. Best is trial 5 with value: -199.29209354795583.\n"
     ]
    },
    {
     "name": "stdout",
     "output_type": "stream",
     "text": [
      "Trial 8 finished with value: -1317.7013675657226 and parameters: {'lr_critic': 0.0008998671627604154, 'lr_actor': 0.0021481401823776917}. Best is trial 5 with value: -199.29209354795583.\n"
     ]
    },
    {
     "name": "stderr",
     "output_type": "stream",
     "text": [
      "100%|██████████| 300/300 [08:25<00:00,  1.69s/it]\n",
      "100%|██████████| 10/10 [00:02<00:00,  3.83it/s]\n",
      "[I 2024-10-21 15:55:57,771] Trial 9 finished with value: -1645.1630078745793 and parameters: {'lr_critic': 0.001771324799077324, 'lr_actor': 0.0005877350666399808}. Best is trial 5 with value: -199.29209354795583.\n"
     ]
    },
    {
     "name": "stdout",
     "output_type": "stream",
     "text": [
      "Trial 9 finished with value: -1645.1630078745793 and parameters: {'lr_critic': 0.001771324799077324, 'lr_actor': 0.0005877350666399808}. Best is trial 5 with value: -199.29209354795583.\n",
      "{'lr_critic': 0.00249714679845251, 'lr_actor': 0.0008659353103577053}\n"
     ]
    }
   ],
   "source": [
    "# DDPG 的 Optuna 超参数搜索\n",
    "\n",
    "# import logging\n",
    "# import sys\n",
    "\n",
    "# import optuna\n",
    "\n",
    "# # Add stream handler of stdout to show the messages\n",
    "# optuna.logging.get_logger(\"optuna\").addHandler(logging.StreamHandler(sys.stdout))\n",
    "\n",
    "# def target(trial: optuna.Trial):\n",
    "#     lr_critic = trial.suggest_float(\"lr_critic\", 5e-4, 5e-2, log = True)\n",
    "#     lr_actor = trial.suggest_float(\"lr_actor\", 1e-4, 1e-2, log = True)\n",
    "\n",
    "#     model = DDPG(HyperParam(\n",
    "#         lr_critic = lr_critic,\n",
    "#         lr_actor = lr_actor,\n",
    "#         gamma = 0.99,\n",
    "#     ))\n",
    "\n",
    "#     teacher = RL_Teacher(model, \"Pendulum-v1_DDPG_param_search\", f\"lrc_{lr_critic:.2e}_lra_{lr_actor:.2e}\", id = \"Pendulum-v1\", render_mode = \"rgb_array\")\n",
    "#     avg_return = teacher.train(\n",
    "#         episode = 300, is_log = False, \n",
    "#         last_episode_return = 100, \n",
    "#         is_fix_seed = True\n",
    "#     )\n",
    "#     return teacher.test(\n",
    "#         is_log_vedio = True, \n",
    "#         vedio_record_gap = 6\n",
    "#     ) + avg_return * 0.1\n",
    "\n",
    "# study = optuna.create_study(\n",
    "#     direction = \"maximize\", \n",
    "#     study_name = f\"Pendulum-v1_DDPG\", \n",
    "#     storage = \"sqlite:///optuna_study/RL.db\", \n",
    "#     load_if_exists = True\n",
    "# )\n",
    "# study.optimize(target, 10)\n",
    "# print(study.best_params)"
   ]
  },
  {
   "cell_type": "code",
   "execution_count": 3,
   "metadata": {},
   "outputs": [
    {
     "name": "stderr",
     "output_type": "stream",
     "text": [
      "[I 2024-10-21 15:55:57,882] A new study created in RDB with name: Pendulum-v1_TD3\n"
     ]
    },
    {
     "name": "stdout",
     "output_type": "stream",
     "text": [
      "A new study created in RDB with name: Pendulum-v1_TD3\n",
      "A new study created in RDB with name: Pendulum-v1_TD3\n"
     ]
    },
    {
     "name": "stderr",
     "output_type": "stream",
     "text": [
      "100%|██████████| 300/300 [08:06<00:00,  1.62s/it]\n",
      "100%|██████████| 10/10 [00:02<00:00,  3.73it/s]\n",
      "[I 2024-10-21 16:04:07,293] Trial 0 finished with value: -1066.2809712154926 and parameters: {'lr_critic': 0.0005822701660399452, 'lr_actor': 0.015556272450804275}. Best is trial 0 with value: -1066.2809712154926.\n"
     ]
    },
    {
     "name": "stdout",
     "output_type": "stream",
     "text": [
      "Trial 0 finished with value: -1066.2809712154926 and parameters: {'lr_critic': 0.0005822701660399452, 'lr_actor': 0.015556272450804275}. Best is trial 0 with value: -1066.2809712154926.\n",
      "Trial 0 finished with value: -1066.2809712154926 and parameters: {'lr_critic': 0.0005822701660399452, 'lr_actor': 0.015556272450804275}. Best is trial 0 with value: -1066.2809712154926.\n"
     ]
    },
    {
     "name": "stderr",
     "output_type": "stream",
     "text": [
      "100%|██████████| 300/300 [08:08<00:00,  1.63s/it]\n",
      "d:\\miniconda3\\envs\\playground\\Lib\\site-packages\\gymnasium\\wrappers\\rendering.py:283: UserWarning: \u001b[33mWARN: Overwriting existing videos at d:\\code\\python\\coconut\\notebook\\test_vedio\\Pendulum-v1_TD3_param_search folder (try specifying a different `video_folder` for the `RecordVideo` wrapper if this is not desired)\u001b[0m\n",
      "  logger.warn(\n",
      "100%|██████████| 10/10 [00:02<00:00,  3.75it/s]\n",
      "[I 2024-10-21 16:12:18,251] Trial 1 finished with value: -1521.5917985177452 and parameters: {'lr_critic': 0.011657526306295074, 'lr_actor': 0.011536861112274562}. Best is trial 0 with value: -1066.2809712154926.\n"
     ]
    },
    {
     "name": "stdout",
     "output_type": "stream",
     "text": [
      "Trial 1 finished with value: -1521.5917985177452 and parameters: {'lr_critic': 0.011657526306295074, 'lr_actor': 0.011536861112274562}. Best is trial 0 with value: -1066.2809712154926.\n",
      "Trial 1 finished with value: -1521.5917985177452 and parameters: {'lr_critic': 0.011657526306295074, 'lr_actor': 0.011536861112274562}. Best is trial 0 with value: -1066.2809712154926.\n"
     ]
    },
    {
     "name": "stderr",
     "output_type": "stream",
     "text": [
      "100%|██████████| 300/300 [08:11<00:00,  1.64s/it]\n",
      "100%|██████████| 10/10 [00:02<00:00,  3.81it/s]\n",
      "[I 2024-10-21 16:20:32,852] Trial 2 finished with value: -564.0634798111196 and parameters: {'lr_critic': 0.008847622045835033, 'lr_actor': 0.01415469664351834}. Best is trial 2 with value: -564.0634798111196.\n"
     ]
    },
    {
     "name": "stdout",
     "output_type": "stream",
     "text": [
      "Trial 2 finished with value: -564.0634798111196 and parameters: {'lr_critic': 0.008847622045835033, 'lr_actor': 0.01415469664351834}. Best is trial 2 with value: -564.0634798111196.\n",
      "Trial 2 finished with value: -564.0634798111196 and parameters: {'lr_critic': 0.008847622045835033, 'lr_actor': 0.01415469664351834}. Best is trial 2 with value: -564.0634798111196.\n"
     ]
    },
    {
     "name": "stderr",
     "output_type": "stream",
     "text": [
      "100%|██████████| 300/300 [08:08<00:00,  1.63s/it]\n",
      "100%|██████████| 10/10 [00:02<00:00,  3.71it/s]\n",
      "[I 2024-10-21 16:28:44,079] Trial 3 finished with value: -871.1477523014414 and parameters: {'lr_critic': 0.03143411713036953, 'lr_actor': 0.001009148143980186}. Best is trial 2 with value: -564.0634798111196.\n"
     ]
    },
    {
     "name": "stdout",
     "output_type": "stream",
     "text": [
      "Trial 3 finished with value: -871.1477523014414 and parameters: {'lr_critic': 0.03143411713036953, 'lr_actor': 0.001009148143980186}. Best is trial 2 with value: -564.0634798111196.\n",
      "Trial 3 finished with value: -871.1477523014414 and parameters: {'lr_critic': 0.03143411713036953, 'lr_actor': 0.001009148143980186}. Best is trial 2 with value: -564.0634798111196.\n"
     ]
    },
    {
     "name": "stderr",
     "output_type": "stream",
     "text": [
      "100%|██████████| 300/300 [08:12<00:00,  1.64s/it]\n",
      "100%|██████████| 10/10 [00:02<00:00,  3.76it/s]\n",
      "[I 2024-10-21 16:36:59,276] Trial 4 finished with value: -572.1537357027903 and parameters: {'lr_critic': 0.0018449803348097407, 'lr_actor': 0.00609952170837964}. Best is trial 2 with value: -564.0634798111196.\n"
     ]
    },
    {
     "name": "stdout",
     "output_type": "stream",
     "text": [
      "Trial 4 finished with value: -572.1537357027903 and parameters: {'lr_critic': 0.0018449803348097407, 'lr_actor': 0.00609952170837964}. Best is trial 2 with value: -564.0634798111196.\n",
      "Trial 4 finished with value: -572.1537357027903 and parameters: {'lr_critic': 0.0018449803348097407, 'lr_actor': 0.00609952170837964}. Best is trial 2 with value: -564.0634798111196.\n"
     ]
    },
    {
     "name": "stderr",
     "output_type": "stream",
     "text": [
      "100%|██████████| 300/300 [08:09<00:00,  1.63s/it]\n",
      "100%|██████████| 10/10 [00:02<00:00,  3.72it/s]\n",
      "[I 2024-10-21 16:45:11,903] Trial 5 finished with value: -945.3197452317918 and parameters: {'lr_critic': 0.0017911556288311705, 'lr_actor': 0.0054727245133124585}. Best is trial 2 with value: -564.0634798111196.\n"
     ]
    },
    {
     "name": "stdout",
     "output_type": "stream",
     "text": [
      "Trial 5 finished with value: -945.3197452317918 and parameters: {'lr_critic': 0.0017911556288311705, 'lr_actor': 0.0054727245133124585}. Best is trial 2 with value: -564.0634798111196.\n",
      "Trial 5 finished with value: -945.3197452317918 and parameters: {'lr_critic': 0.0017911556288311705, 'lr_actor': 0.0054727245133124585}. Best is trial 2 with value: -564.0634798111196.\n"
     ]
    },
    {
     "name": "stderr",
     "output_type": "stream",
     "text": [
      "100%|██████████| 300/300 [08:13<00:00,  1.65s/it]\n",
      "100%|██████████| 10/10 [00:02<00:00,  3.81it/s]\n",
      "[I 2024-10-21 16:53:28,366] Trial 6 finished with value: -199.03884512803745 and parameters: {'lr_critic': 0.020209824367021293, 'lr_actor': 0.0018334721290907891}. Best is trial 6 with value: -199.03884512803745.\n"
     ]
    },
    {
     "name": "stdout",
     "output_type": "stream",
     "text": [
      "Trial 6 finished with value: -199.03884512803745 and parameters: {'lr_critic': 0.020209824367021293, 'lr_actor': 0.0018334721290907891}. Best is trial 6 with value: -199.03884512803745.\n",
      "Trial 6 finished with value: -199.03884512803745 and parameters: {'lr_critic': 0.020209824367021293, 'lr_actor': 0.0018334721290907891}. Best is trial 6 with value: -199.03884512803745.\n"
     ]
    },
    {
     "name": "stderr",
     "output_type": "stream",
     "text": [
      "100%|██████████| 300/300 [08:07<00:00,  1.63s/it]\n",
      "100%|██████████| 10/10 [00:02<00:00,  3.81it/s]\n",
      "[I 2024-10-21 17:01:38,779] Trial 7 finished with value: -589.2729938638469 and parameters: {'lr_critic': 0.016821087821542326, 'lr_actor': 0.01858721228385982}. Best is trial 6 with value: -199.03884512803745.\n"
     ]
    },
    {
     "name": "stdout",
     "output_type": "stream",
     "text": [
      "Trial 7 finished with value: -589.2729938638469 and parameters: {'lr_critic': 0.016821087821542326, 'lr_actor': 0.01858721228385982}. Best is trial 6 with value: -199.03884512803745.\n",
      "Trial 7 finished with value: -589.2729938638469 and parameters: {'lr_critic': 0.016821087821542326, 'lr_actor': 0.01858721228385982}. Best is trial 6 with value: -199.03884512803745.\n"
     ]
    },
    {
     "name": "stderr",
     "output_type": "stream",
     "text": [
      "100%|██████████| 300/300 [08:18<00:00,  1.66s/it]\n",
      "100%|██████████| 10/10 [00:02<00:00,  3.79it/s]\n",
      "[I 2024-10-21 17:10:00,391] Trial 8 finished with value: -915.5141203818089 and parameters: {'lr_critic': 0.0007326643593495767, 'lr_actor': 0.017578295606188763}. Best is trial 6 with value: -199.03884512803745.\n"
     ]
    },
    {
     "name": "stdout",
     "output_type": "stream",
     "text": [
      "Trial 8 finished with value: -915.5141203818089 and parameters: {'lr_critic': 0.0007326643593495767, 'lr_actor': 0.017578295606188763}. Best is trial 6 with value: -199.03884512803745.\n",
      "Trial 8 finished with value: -915.5141203818089 and parameters: {'lr_critic': 0.0007326643593495767, 'lr_actor': 0.017578295606188763}. Best is trial 6 with value: -199.03884512803745.\n"
     ]
    },
    {
     "name": "stderr",
     "output_type": "stream",
     "text": [
      "100%|██████████| 300/300 [08:08<00:00,  1.63s/it]\n",
      "100%|██████████| 10/10 [00:02<00:00,  3.80it/s]\n",
      "[I 2024-10-21 17:18:11,672] Trial 9 finished with value: -1352.013637893145 and parameters: {'lr_critic': 0.0010393904990054388, 'lr_actor': 0.0011558949626366295}. Best is trial 6 with value: -199.03884512803745.\n"
     ]
    },
    {
     "name": "stdout",
     "output_type": "stream",
     "text": [
      "Trial 9 finished with value: -1352.013637893145 and parameters: {'lr_critic': 0.0010393904990054388, 'lr_actor': 0.0011558949626366295}. Best is trial 6 with value: -199.03884512803745.\n",
      "Trial 9 finished with value: -1352.013637893145 and parameters: {'lr_critic': 0.0010393904990054388, 'lr_actor': 0.0011558949626366295}. Best is trial 6 with value: -199.03884512803745.\n",
      "{'lr_critic': 0.020209824367021293, 'lr_actor': 0.0018334721290907891}\n"
     ]
    }
   ],
   "source": [
    "# TD3 的 Optuna 超参数搜索\n",
    "\n",
    "# import logging\n",
    "# import sys\n",
    "\n",
    "# import optuna\n",
    "\n",
    "# # Add stream handler of stdout to show the messages\n",
    "# optuna.logging.get_logger(\"optuna\").addHandler(logging.StreamHandler(sys.stdout))\n",
    "\n",
    "# def target(trial: optuna.Trial):\n",
    "#     lr_critic = trial.suggest_float(\"lr_critic\", 5e-4, 5e-2, log = True)\n",
    "#     lr_actor = trial.suggest_float(\"lr_actor\", 2e-4, 2e-2, log = True)\n",
    "\n",
    "#     model = TD3(HyperParam(\n",
    "#         lr_critic = lr_critic,\n",
    "#         lr_actor = lr_actor,\n",
    "#         gamma = 0.99,\n",
    "#     ))\n",
    "\n",
    "#     teacher = RL_Teacher(model, \"Pendulum-v1_TD3_param_search\", f\"lrc_{lr_critic:.2e}_lra_{lr_actor:.2e}\", id = \"Pendulum-v1\", render_mode = \"rgb_array\")\n",
    "#     avg_return = teacher.train(\n",
    "#         episode = 300, is_log = False, \n",
    "#         last_episode_return = 100, \n",
    "#         is_fix_seed = True\n",
    "#     )\n",
    "#     return teacher.test(\n",
    "#         is_log_vedio = True, \n",
    "#         vedio_record_gap = 6\n",
    "#     ) + avg_return * 0.1\n",
    "\n",
    "# study = optuna.create_study(\n",
    "#     direction = \"maximize\", \n",
    "#     study_name = f\"Pendulum-v1_TD3\", \n",
    "#     storage = \"sqlite:///optuna_study/RL.db\", \n",
    "#     load_if_exists = True\n",
    "# )\n",
    "# study.optimize(target, 10)\n",
    "# print(study.best_params)"
   ]
  }
 ],
 "metadata": {
  "kernelspec": {
   "display_name": "playground",
   "language": "python",
   "name": "python3"
  },
  "language_info": {
   "codemirror_mode": {
    "name": "ipython",
    "version": 3
   },
   "file_extension": ".py",
   "mimetype": "text/x-python",
   "name": "python",
   "nbconvert_exporter": "python",
   "pygments_lexer": "ipython3",
   "version": "3.12.7"
  }
 },
 "nbformat": 4,
 "nbformat_minor": 2
}
