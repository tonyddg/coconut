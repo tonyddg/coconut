{
 "cells": [
  {
   "cell_type": "markdown",
   "metadata": {},
   "source": [
    "# BaseDQN\n",
    "参考自 <https://hrl.boyuai.com/chapter/2/dqn%E7%AE%97%E6%B3%95/>\n",
    "\n",
    "## 算法内容\n",
    "包含以下 DQN 的改进算法\n",
    "* Double DQN: 每个 Episode 结束后覆盖更新 Target Network 参数\n",
    "* 经验回放: 使用 `collect.dequeue` 实现, 具体代码见 `src.RL.utility.reply_queue` 模块\n",
    "* epsilon-greedy 决策: 根据动作执行次数, 按指数规律衰减随机探索的概率\n",
    "\n",
    "## 实现注意\n",
    "* 模型训练时, 预测 $q_{t}=q(s_{t},a_{t};\\bm{w}_{t})$, 而不是像决策时取最大值 \n",
    "* 算法对学习率较为敏感, 学习率降低时, 前期学习所需的 Episode 增加; 学习率过高时, 收敛后将价值曲线不稳定\n"
   ]
  },
  {
   "cell_type": "code",
   "execution_count": 1,
   "metadata": {},
   "outputs": [],
   "source": [
    "import os\n",
    "import sys\n",
    "from ipynb_utility import get_file, set_seed\n",
    "sys.path.insert(0, os.path.abspath(os.path.join(os.path.dirname(get_file()), '..')))\n",
    "\n",
    "seed = 114514\n",
    "set_seed(seed)\n",
    "\n",
    "import gymnasium as gym\n",
    "\n",
    "from src.RL.BaseDQN import BaseDQN, HyperParam\n",
    "from src.RL.utility.train_rl import RL_Teacher"
   ]
  },
  {
   "cell_type": "code",
   "execution_count": 2,
   "metadata": {},
   "outputs": [
    {
     "name": "stderr",
     "output_type": "stream",
     "text": [
      "100%|██████████| 600/600 [32:24<00:00,  3.24s/it]\n",
      "100%|██████████| 10/10 [00:14<00:00,  1.45s/it]\n"
     ]
    },
    {
     "name": "stdout",
     "output_type": "stream",
     "text": [
      "CartPole-v1_BaseDQN:  500.0\n"
     ]
    }
   ],
   "source": [
    "env = gym.make(\"CartPole-v1\", render_mode = \"rgb_array\")\n",
    "\n",
    "model = BaseDQN(HyperParam())\n",
    "\n",
    "teacher = RL_Teacher(model, \"CartPole-v1_BaseDQN\", f\"seed_{seed}\", id = \"CartPole-v1\", render_mode = \"rgb_array\")\n",
    "teacher.train(episode = 600)\n",
    "print(\"CartPole-v1_BaseDQN: \", teacher.test())"
   ]
  },
  {
   "cell_type": "markdown",
   "metadata": {},
   "source": [
    "# BaseDQN 算法效果\n",
    "测试环境 `gymnasium CartPole-v1`\n",
    "\n",
    "## 学习曲线\n",
    "\n",
    "![](../res/CartPole-v1_BaseDQN.png)\n",
    "\n",
    "## 示例视频\n",
    "\n",
    "<video controls src=\"../res/CartPole-v1_BaseDQN.mp4\">animation</video>\n"
   ]
  },
  {
   "cell_type": "code",
   "execution_count": 2,
   "metadata": {},
   "outputs": [
    {
     "name": "stderr",
     "output_type": "stream",
     "text": [
      "d:\\miniconda3\\envs\\playground\\Lib\\site-packages\\tqdm\\auto.py:21: TqdmWarning: IProgress not found. Please update jupyter and ipywidgets. See https://ipywidgets.readthedocs.io/en/stable/user_install.html\n",
      "  from .autonotebook import tqdm as notebook_tqdm\n",
      "[I 2024-10-21 14:46:33,160] A new study created in RDB with name: CartPole-v1_BaseDQN\n"
     ]
    },
    {
     "name": "stdout",
     "output_type": "stream",
     "text": [
      "A new study created in RDB with name: CartPole-v1_BaseDQN\n"
     ]
    },
    {
     "name": "stderr",
     "output_type": "stream",
     "text": [
      "100%|██████████| 600/600 [01:31<00:00,  6.55it/s]\n",
      "100%|██████████| 10/10 [00:02<00:00,  4.36it/s]\n",
      "[I 2024-10-21 14:48:08,997] Trial 0 finished with value: 65.4565 and parameters: {'alpha': 2.2869913779667538e-05, 'action_take_time_decay': 798}. Best is trial 0 with value: 65.4565.\n"
     ]
    },
    {
     "name": "stdout",
     "output_type": "stream",
     "text": [
      "Trial 0 finished with value: 65.4565 and parameters: {'alpha': 2.2869913779667538e-05, 'action_take_time_decay': 798}. Best is trial 0 with value: 65.4565.\n"
     ]
    },
    {
     "name": "stderr",
     "output_type": "stream",
     "text": [
      "100%|██████████| 600/600 [32:08<00:00,  3.21s/it]\n",
      "d:\\miniconda3\\envs\\playground\\Lib\\site-packages\\gymnasium\\wrappers\\rendering.py:283: UserWarning: \u001b[33mWARN: Overwriting existing videos at d:\\code\\python\\coconut\\notebook\\test_vedio\\CartPole-v1_BaseDQN_param_search folder (try specifying a different `video_folder` for the `RecordVideo` wrapper if this is not desired)\u001b[0m\n",
      "  logger.warn(\n",
      "100%|██████████| 10/10 [00:04<00:00,  2.49it/s]\n",
      "[I 2024-10-21 15:20:22,032] Trial 1 finished with value: 540.0625 and parameters: {'alpha': 0.0004950654380831124, 'action_take_time_decay': 954}. Best is trial 1 with value: 540.0625.\n"
     ]
    },
    {
     "name": "stdout",
     "output_type": "stream",
     "text": [
      "Trial 1 finished with value: 540.0625 and parameters: {'alpha': 0.0004950654380831124, 'action_take_time_decay': 954}. Best is trial 1 with value: 540.0625.\n"
     ]
    },
    {
     "name": "stderr",
     "output_type": "stream",
     "text": [
      "100%|██████████| 600/600 [05:58<00:00,  1.67it/s]\n",
      "100%|██████████| 10/10 [00:03<00:00,  2.67it/s]\n",
      "[I 2024-10-21 15:26:24,822] Trial 2 finished with value: 354.56 and parameters: {'alpha': 2.1557974525674185e-05, 'action_take_time_decay': 619}. Best is trial 1 with value: 540.0625.\n"
     ]
    },
    {
     "name": "stdout",
     "output_type": "stream",
     "text": [
      "Trial 2 finished with value: 354.56 and parameters: {'alpha': 2.1557974525674185e-05, 'action_take_time_decay': 619}. Best is trial 1 with value: 540.0625.\n"
     ]
    },
    {
     "name": "stderr",
     "output_type": "stream",
     "text": [
      "100%|██████████| 600/600 [25:18<00:00,  2.53s/it]\n",
      "100%|██████████| 10/10 [00:02<00:00,  3.47it/s]\n",
      "[I 2024-10-21 15:51:46,417] Trial 3 finished with value: 334.7325 and parameters: {'alpha': 0.00020522559385052695, 'action_take_time_decay': 1907}. Best is trial 1 with value: 540.0625.\n"
     ]
    },
    {
     "name": "stdout",
     "output_type": "stream",
     "text": [
      "Trial 3 finished with value: 334.7325 and parameters: {'alpha': 0.00020522559385052695, 'action_take_time_decay': 1907}. Best is trial 1 with value: 540.0625.\n"
     ]
    },
    {
     "name": "stderr",
     "output_type": "stream",
     "text": [
      "100%|██████████| 600/600 [23:30<00:00,  2.35s/it]\n",
      "100%|██████████| 10/10 [00:03<00:00,  2.70it/s]\n",
      "[I 2024-10-21 16:15:21,279] Trial 4 finished with value: 505.58 and parameters: {'alpha': 0.0001254952803349487, 'action_take_time_decay': 6811}. Best is trial 1 with value: 540.0625.\n"
     ]
    },
    {
     "name": "stdout",
     "output_type": "stream",
     "text": [
      "Trial 4 finished with value: 505.58 and parameters: {'alpha': 0.0001254952803349487, 'action_take_time_decay': 6811}. Best is trial 1 with value: 540.0625.\n"
     ]
    },
    {
     "name": "stderr",
     "output_type": "stream",
     "text": [
      "100%|██████████| 600/600 [01:38<00:00,  6.12it/s]\n",
      "100%|██████████| 10/10 [00:00<00:00, 11.28it/s]\n",
      "[I 2024-10-21 16:17:00,490] Trial 5 finished with value: 10.650500000000001 and parameters: {'alpha': 1.3728948696834698e-05, 'action_take_time_decay': 9616}. Best is trial 1 with value: 540.0625.\n"
     ]
    },
    {
     "name": "stdout",
     "output_type": "stream",
     "text": [
      "Trial 5 finished with value: 10.650500000000001 and parameters: {'alpha': 1.3728948696834698e-05, 'action_take_time_decay': 9616}. Best is trial 1 with value: 540.0625.\n"
     ]
    },
    {
     "name": "stderr",
     "output_type": "stream",
     "text": [
      "100%|██████████| 600/600 [09:35<00:00,  1.04it/s]\n",
      "100%|██████████| 10/10 [00:03<00:00,  2.71it/s]\n",
      "[I 2024-10-21 16:26:40,121] Trial 6 finished with value: 366.7135 and parameters: {'alpha': 3.46219117102119e-05, 'action_take_time_decay': 32410}. Best is trial 1 with value: 540.0625.\n"
     ]
    },
    {
     "name": "stdout",
     "output_type": "stream",
     "text": [
      "Trial 6 finished with value: 366.7135 and parameters: {'alpha': 3.46219117102119e-05, 'action_take_time_decay': 32410}. Best is trial 1 with value: 540.0625.\n"
     ]
    },
    {
     "name": "stderr",
     "output_type": "stream",
     "text": [
      "100%|██████████| 600/600 [01:44<00:00,  5.73it/s]\n",
      "100%|██████████| 10/10 [00:00<00:00, 11.35it/s]\n",
      "[I 2024-10-21 16:28:26,034] Trial 7 finished with value: 10.7375 and parameters: {'alpha': 1.3015750745629715e-05, 'action_take_time_decay': 12683}. Best is trial 1 with value: 540.0625.\n"
     ]
    },
    {
     "name": "stdout",
     "output_type": "stream",
     "text": [
      "Trial 7 finished with value: 10.7375 and parameters: {'alpha': 1.3015750745629715e-05, 'action_take_time_decay': 12683}. Best is trial 1 with value: 540.0625.\n"
     ]
    },
    {
     "name": "stderr",
     "output_type": "stream",
     "text": [
      "100%|██████████| 600/600 [24:10<00:00,  2.42s/it]\n",
      "100%|██████████| 10/10 [00:03<00:00,  2.56it/s]\n",
      "[I 2024-10-21 16:52:40,232] Trial 8 finished with value: 541.5795 and parameters: {'alpha': 0.0008547490835362053, 'action_take_time_decay': 15470}. Best is trial 8 with value: 541.5795.\n"
     ]
    },
    {
     "name": "stdout",
     "output_type": "stream",
     "text": [
      "Trial 8 finished with value: 541.5795 and parameters: {'alpha': 0.0008547490835362053, 'action_take_time_decay': 15470}. Best is trial 8 with value: 541.5795.\n"
     ]
    },
    {
     "name": "stderr",
     "output_type": "stream",
     "text": [
      "100%|██████████| 600/600 [31:16<00:00,  3.13s/it]\n",
      "100%|██████████| 10/10 [00:02<00:00,  3.56it/s]\n",
      "[I 2024-10-21 17:23:59,602] Trial 9 finished with value: 546.0305 and parameters: {'alpha': 6.984818894841864e-05, 'action_take_time_decay': 3972}. Best is trial 9 with value: 546.0305.\n"
     ]
    },
    {
     "name": "stdout",
     "output_type": "stream",
     "text": [
      "Trial 9 finished with value: 546.0305 and parameters: {'alpha': 6.984818894841864e-05, 'action_take_time_decay': 3972}. Best is trial 9 with value: 546.0305.\n",
      "{'alpha': 6.984818894841864e-05, 'action_take_time_decay': 3972}\n"
     ]
    }
   ],
   "source": [
    "# BaseDQN 的 Optuna 超参数搜索\n",
    "\n",
    "# import logging\n",
    "# import sys\n",
    "\n",
    "# import optuna\n",
    "\n",
    "# # Add stream handler of stdout to show the messages\n",
    "# optuna.logging.get_logger(\"optuna\").addHandler(logging.StreamHandler(sys.stdout))\n",
    "\n",
    "# def target(trial: optuna.Trial):\n",
    "#     alpha = trial.suggest_float(\"alpha\", 1e-5, 1e-3, log = True)\n",
    "#     action_take_time_decay = trial.suggest_int(\"action_take_time_decay\", 500, 50000, log = True)\n",
    "\n",
    "#     model = BaseDQN(HyperParam(\n",
    "#         alpha = alpha,\n",
    "#         action_take_time_decay = action_take_time_decay\n",
    "#     ))\n",
    "\n",
    "#     teacher = RL_Teacher(model, \"CartPole-v1_BaseDQN_param_search\", f\"lr_{alpha:.2e}_attd_{action_take_time_decay:.2e}\", id = \"CartPole-v1\", render_mode = \"rgb_array\")\n",
    "#     avg_return = teacher.train(\n",
    "#         episode = 600, is_log = False, \n",
    "#         last_episode_return = 200, \n",
    "#         is_fix_seed = True\n",
    "#     )\n",
    "#     return teacher.test(\n",
    "#         is_log_vedio = True, \n",
    "#         vedio_record_gap = 6\n",
    "#     ) + avg_return * 0.1\n",
    "\n",
    "# study = optuna.create_study(\n",
    "#     direction = \"maximize\", \n",
    "#     study_name = f\"CartPole-v1_BaseDQN\", \n",
    "#     storage = \"sqlite:///optuna_study/RL.db\", \n",
    "#     load_if_exists = True\n",
    "# )\n",
    "# study.optimize(target, 10)\n",
    "# print(study.best_params)"
   ]
  }
 ],
 "metadata": {
  "kernelspec": {
   "display_name": "playground",
   "language": "python",
   "name": "python3"
  },
  "language_info": {
   "codemirror_mode": {
    "name": "ipython",
    "version": 3
   },
   "file_extension": ".py",
   "mimetype": "text/x-python",
   "name": "python",
   "nbconvert_exporter": "python",
   "pygments_lexer": "ipython3",
   "version": "3.12.7"
  }
 },
 "nbformat": 4,
 "nbformat_minor": 2
}
